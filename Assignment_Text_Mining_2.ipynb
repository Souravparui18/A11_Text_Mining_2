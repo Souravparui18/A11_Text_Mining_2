{
 "cells": [
  {
   "cell_type": "markdown",
   "id": "7531b198-7d27-4b8a-8f85-48c767a5d933",
   "metadata": {},
   "source": [
    "### Importing Libraries"
   ]
  },
  {
   "cell_type": "code",
   "execution_count": 200,
   "id": "f67c1ac6",
   "metadata": {},
   "outputs": [],
   "source": [
    "import requests # Importing requests to extract content from a url\n",
    "from bs4 import BeautifulSoup as bs # Beautifulsoup is for web scrapping...used to scrap specific content\n",
    "import re # regular expressions\n",
    "\n",
    "import nltk\n",
    "from nltk.corpus import stopwords\n",
    "import matplotlib.pyplot as plt\n",
    "from wordcloud import WordCloud\n",
    "import pandas as pd\n",
    "import string\n",
    "import spacy"
   ]
  },
  {
   "cell_type": "markdown",
   "id": "1c606b03-cd4a-41b2-9543-b4d8b819aac0",
   "metadata": {},
   "source": [
    "### Web Scrapping"
   ]
  },
  {
   "cell_type": "code",
   "execution_count": 162,
   "id": "cd405950",
   "metadata": {},
   "outputs": [],
   "source": [
    "Amazon_Echo_Dot_reviews=[]"
   ]
  },
  {
   "cell_type": "code",
   "execution_count": 163,
   "id": "2d956e7d",
   "metadata": {},
   "outputs": [],
   "source": [
    "for i in range(1,20):\n",
    "  ip=[]  \n",
    "\n",
    "  url = \"https://www.amazon.in/Echo-Dot-3rd-Gen/product-reviews/B07PFFMP9P/ref=cm_cr_dp_d_show_all_btm?ie=UTF8&reviewerType=all_reviews\"+str(i)\n",
    "  response = requests.get(url)\n",
    "  soup = bs(response.content,\"html.parser\")# creating soup object to iterate over the extracted content \n",
    "  reviews = soup.findAll(\"span\",attrs={\"class\",\"a-size-base review-text review-text-content\"})\n",
    "  # Extracting the content under specific tags  \n",
    "# Extracting the content under specific tags    \n",
    "for i in range(len(reviews)):\n",
    "    ip.append(reviews[i].text)  \n",
    "Amazon_Echo_Dot_reviews=Amazon_Echo_Dot_reviews+ip   # "
   ]
  },
  {
   "cell_type": "markdown",
   "id": "22594a83-9df6-4d82-b476-950f202a6926",
   "metadata": {},
   "source": [
    "### Loading the data"
   ]
  },
  {
   "cell_type": "code",
   "execution_count": 164,
   "id": "af2052b1",
   "metadata": {},
   "outputs": [],
   "source": [
    "Amazon_Echo_Dot_reviews\n",
    "reviews=pd.DataFrame(Amazon_Echo_Dot_reviews)"
   ]
  },
  {
   "cell_type": "code",
   "execution_count": 165,
   "id": "0d4b261e",
   "metadata": {},
   "outputs": [],
   "source": [
    "reviews.columns=['text']"
   ]
  },
  {
   "cell_type": "code",
   "execution_count": 166,
   "id": "e35cfee3",
   "metadata": {},
   "outputs": [
    {
     "data": {
      "text/html": [
       "<div>\n",
       "<style scoped>\n",
       "    .dataframe tbody tr th:only-of-type {\n",
       "        vertical-align: middle;\n",
       "    }\n",
       "\n",
       "    .dataframe tbody tr th {\n",
       "        vertical-align: top;\n",
       "    }\n",
       "\n",
       "    .dataframe thead th {\n",
       "        text-align: right;\n",
       "    }\n",
       "</style>\n",
       "<table border=\"1\" class=\"dataframe\">\n",
       "  <thead>\n",
       "    <tr style=\"text-align: right;\">\n",
       "      <th></th>\n",
       "      <th>text</th>\n",
       "    </tr>\n",
       "  </thead>\n",
       "  <tbody>\n",
       "    <tr>\n",
       "      <th>0</th>\n",
       "      <td>\\nUseful as a speakerContinuous command is not...</td>\n",
       "    </tr>\n",
       "    <tr>\n",
       "      <th>1</th>\n",
       "      <td>\\nAlexa is a great AI especially for mundane t...</td>\n",
       "    </tr>\n",
       "    <tr>\n",
       "      <th>2</th>\n",
       "      <td>\\nI am writing this after a month of use..Had ...</td>\n",
       "    </tr>\n",
       "    <tr>\n",
       "      <th>3</th>\n",
       "      <td>\\nvery good product\\n</td>\n",
       "    </tr>\n",
       "    <tr>\n",
       "      <th>4</th>\n",
       "      <td>\\nGood\\n</td>\n",
       "    </tr>\n",
       "    <tr>\n",
       "      <th>5</th>\n",
       "      <td>\\nWhy don't you add battery back up? And every...</td>\n",
       "    </tr>\n",
       "    <tr>\n",
       "      <th>6</th>\n",
       "      <td>\\nSometimes automatically start song\\n</td>\n",
       "    </tr>\n",
       "    <tr>\n",
       "      <th>7</th>\n",
       "      <td>\\nGood\\n</td>\n",
       "    </tr>\n",
       "    <tr>\n",
       "      <th>8</th>\n",
       "      <td>\\nThe product is great but sometimes it doesn'...</td>\n",
       "    </tr>\n",
       "    <tr>\n",
       "      <th>9</th>\n",
       "      <td>\\nEverything is good . Ot works all good as a ...</td>\n",
       "    </tr>\n",
       "  </tbody>\n",
       "</table>\n",
       "</div>"
      ],
      "text/plain": [
       "                                                text\n",
       "0  \\nUseful as a speakerContinuous command is not...\n",
       "1  \\nAlexa is a great AI especially for mundane t...\n",
       "2  \\nI am writing this after a month of use..Had ...\n",
       "3                              \\nvery good product\\n\n",
       "4                                           \\nGood\\n\n",
       "5  \\nWhy don't you add battery back up? And every...\n",
       "6             \\nSometimes automatically start song\\n\n",
       "7                                           \\nGood\\n\n",
       "8  \\nThe product is great but sometimes it doesn'...\n",
       "9  \\nEverything is good . Ot works all good as a ..."
      ]
     },
     "execution_count": 166,
     "metadata": {},
     "output_type": "execute_result"
    }
   ],
   "source": [
    "reviews"
   ]
  },
  {
   "cell_type": "markdown",
   "id": "1d31ca87-b077-4d78-8460-d3d23bb70d41",
   "metadata": {},
   "source": [
    "### EDA"
   ]
  },
  {
   "cell_type": "code",
   "execution_count": 167,
   "id": "f0ef7c34",
   "metadata": {},
   "outputs": [
    {
     "data": {
      "text/plain": [
       "(2477, 2)"
      ]
     },
     "execution_count": 167,
     "metadata": {},
     "output_type": "execute_result"
    }
   ],
   "source": [
    "affin=pd.read_csv('Afinn.csv', sep = ',',encoding='latin-1')\n",
    "affin.shape"
   ]
  },
  {
   "cell_type": "code",
   "execution_count": 168,
   "id": "c1f3b196",
   "metadata": {},
   "outputs": [
    {
     "data": {
      "text/plain": [
       "['Useful as a speakerContinuous command is not possible as it has limited intelligence. Every sentence should start with Alexa..Good sound quality and loud enough',\n",
       " \"Alexa is a great AI especially for mundane tasks like for facts and all so it's going to augment your learningThe bulb need a strong internet connection though .\",\n",
       " 'I am writing this after a month of use..Had lot of confusion before buying due to mixed reviews .. but finally bought after a direct friend recommendation and found it really good ..It may vary from one’s choice .. but certainly a good buy for daily music loversPros -Very good sound qualityAlexa response is quite fastCan play songs/playlist different each timeCan be connected to a high end speakers through Bluetooth and Alexa dot can be used as voice commands for song selectionCons -No direct play of already saved long from any phone devicesSound loudness can’t be kept too loud as it will make Alexa keyword response bleakFinal comment- if don’t have any other Bluetooth speaker, it’s a certain buy',\n",
       " 'very good product',\n",
       " 'Good',\n",
       " \"Why don't you add battery back up? And every thing is fine\",\n",
       " 'Sometimes automatically start song',\n",
       " 'Good',\n",
       " \"The product is great but sometimes it doesn't recognise correctly what I sayProsIt has good sound recognisationCan answer majority common question but not s good as google home mini in answering the questionsIf you have high budget you can go for alexa 4th gen as it's sound quality is more clear than 3rd gen eco dot 3rd gen is also very good compared to its price but don't expect home theatre like soundConsYou have to know the song exact name to play it it fails to recognise songs in between google home mi is smart in this case\",\n",
       " 'Everything is good . Ot works all good as a smart speaker but what i felt it should have youtube music support for those who loves it only as a smart music player . I used this for a month and sound is pretty good and loud also .']"
      ]
     },
     "execution_count": 168,
     "metadata": {},
     "output_type": "execute_result"
    }
   ],
   "source": [
    "data1 = [text.strip() for text in reviews.text]#removing blank spaces\n",
    "data1 = [text for text in data1 if text]#removing black lines\n",
    "data1"
   ]
  },
  {
   "cell_type": "code",
   "execution_count": 169,
   "id": "d2e7cdcd-e32b-4277-bed9-f77484aea10a",
   "metadata": {},
   "outputs": [
    {
     "name": "stderr",
     "output_type": "stream",
     "text": [
      "[nltk_data] Downloading package punkt to C:\\Users\\gaurang\n",
      "[nltk_data]     manjrekar\\AppData\\Roaming\\nltk_data...\n",
      "[nltk_data]   Package punkt is already up-to-date!\n"
     ]
    },
    {
     "data": {
      "text/plain": [
       "True"
      ]
     },
     "execution_count": 169,
     "metadata": {},
     "output_type": "execute_result"
    }
   ],
   "source": [
    "import nltk\n",
    "nltk.download('punkt')"
   ]
  },
  {
   "cell_type": "code",
   "execution_count": 170,
   "id": "7ad45f47",
   "metadata": {},
   "outputs": [
    {
     "data": {
      "text/plain": [
       "['Useful as a speakerContinuous command is not possible as it has limited intelligence.',\n",
       " \"Every sentence should start with Alexa..Good sound quality and loud enough Alexa is a great AI especially for mundane tasks like for facts and all so it's going to augment your learningThe bulb need a strong internet connection though .\",\n",
       " \"I am writing this after a month of use..Had lot of confusion before buying due to mixed reviews .. but finally bought after a direct friend recommendation and found it really good ..It may vary from one’s choice .. but certainly a good buy for daily music loversPros -Very good sound qualityAlexa response is quite fastCan play songs/playlist different each timeCan be connected to a high end speakers through Bluetooth and Alexa dot can be used as voice commands for song selectionCons -No direct play of already saved long from any phone devicesSound loudness can’t be kept too loud as it will make Alexa keyword response bleakFinal comment- if don’t have any other Bluetooth speaker, it’s a certain buy very good product Good Why don't you add battery back up?\",\n",
       " \"And every thing is fine Sometimes automatically start song Good The product is great but sometimes it doesn't recognise correctly what I sayProsIt has good sound recognisationCan answer majority common question but not s good as google home mini in answering the questionsIf you have high budget you can go for alexa 4th gen as it's sound quality is more clear than 3rd gen eco dot 3rd gen is also very good compared to its price but don't expect home theatre like soundConsYou have to know the song exact name to play it it fails to recognise songs in between google home mi is smart in this case Everything is good .\",\n",
       " 'Ot works all good as a smart speaker but what i felt it should have youtube music support for those who loves it only as a smart music player .',\n",
       " 'I used this for a month and sound is pretty good and loud also .']"
      ]
     },
     "execution_count": 170,
     "metadata": {},
     "output_type": "execute_result"
    }
   ],
   "source": [
    "#tokenizing\n",
    "from nltk import tokenize\n",
    "sentences = tokenize.sent_tokenize(\" \".join(data1))\n",
    "sentences[0:15]"
   ]
  },
  {
   "cell_type": "code",
   "execution_count": 171,
   "id": "aad463e3",
   "metadata": {},
   "outputs": [
    {
     "data": {
      "text/html": [
       "<div>\n",
       "<style scoped>\n",
       "    .dataframe tbody tr th:only-of-type {\n",
       "        vertical-align: middle;\n",
       "    }\n",
       "\n",
       "    .dataframe tbody tr th {\n",
       "        vertical-align: top;\n",
       "    }\n",
       "\n",
       "    .dataframe thead th {\n",
       "        text-align: right;\n",
       "    }\n",
       "</style>\n",
       "<table border=\"1\" class=\"dataframe\">\n",
       "  <thead>\n",
       "    <tr style=\"text-align: right;\">\n",
       "      <th></th>\n",
       "      <th>sentence</th>\n",
       "    </tr>\n",
       "  </thead>\n",
       "  <tbody>\n",
       "    <tr>\n",
       "      <th>0</th>\n",
       "      <td>Useful as a speakerContinuous command is not p...</td>\n",
       "    </tr>\n",
       "    <tr>\n",
       "      <th>1</th>\n",
       "      <td>Every sentence should start with Alexa..Good s...</td>\n",
       "    </tr>\n",
       "    <tr>\n",
       "      <th>2</th>\n",
       "      <td>I am writing this after a month of use..Had lo...</td>\n",
       "    </tr>\n",
       "    <tr>\n",
       "      <th>3</th>\n",
       "      <td>And every thing is fine Sometimes automaticall...</td>\n",
       "    </tr>\n",
       "    <tr>\n",
       "      <th>4</th>\n",
       "      <td>Ot works all good as a smart speaker but what ...</td>\n",
       "    </tr>\n",
       "    <tr>\n",
       "      <th>5</th>\n",
       "      <td>I used this for a month and sound is pretty go...</td>\n",
       "    </tr>\n",
       "  </tbody>\n",
       "</table>\n",
       "</div>"
      ],
      "text/plain": [
       "                                            sentence\n",
       "0  Useful as a speakerContinuous command is not p...\n",
       "1  Every sentence should start with Alexa..Good s...\n",
       "2  I am writing this after a month of use..Had lo...\n",
       "3  And every thing is fine Sometimes automaticall...\n",
       "4  Ot works all good as a smart speaker but what ...\n",
       "5  I used this for a month and sound is pretty go..."
      ]
     },
     "execution_count": 171,
     "metadata": {},
     "output_type": "execute_result"
    }
   ],
   "source": [
    "sent_df = pd.DataFrame(sentences, columns=['sentence'])\n",
    "sent_df[0:20]"
   ]
  },
  {
   "cell_type": "code",
   "execution_count": 172,
   "id": "e5f150d3",
   "metadata": {},
   "outputs": [
    {
     "data": {
      "text/plain": [
       "a            11\n",
       "good         10\n",
       "is           10\n",
       "it            8\n",
       "as            8\n",
       "for           7\n",
       "to            7\n",
       "and           6\n",
       "but           6\n",
       "sound         5\n",
       ".             4\n",
       "have          4\n",
       "gen           3\n",
       "loud          3\n",
       "in            3\n",
       "of            3\n",
       "home          3\n",
       "smart         3\n",
       "music         3\n",
       "this          3\n",
       "Alexa         3\n",
       "play          3\n",
       "I             3\n",
       "you           3\n",
       "song          3\n",
       "be            3\n",
       "very          2\n",
       "after         2\n",
       "month         2\n",
       "product       2\n",
       "also          2\n",
       "3rd           2\n",
       "Good          2\n",
       "don't         2\n",
       "direct        2\n",
       "the           2\n",
       "recognise     2\n",
       "used          2\n",
       "from          2\n",
       "can           2\n",
       "google        2\n",
       "buy           2\n",
       "dot           2\n",
       "Bluetooth     2\n",
       "response      2\n",
       "what          2\n",
       "high          2\n",
       "any           2\n",
       "..            2\n",
       "great         2\n",
       "dtype: int64"
      ]
     },
     "execution_count": 172,
     "metadata": {},
     "output_type": "execute_result"
    }
   ],
   "source": [
    "#frequency of words\n",
    "freq1 = pd.Series(' '.join(sent_df['sentence']).split()).value_counts()[:50] # for top 20\n",
    "freq1"
   ]
  },
  {
   "cell_type": "code",
   "execution_count": 173,
   "id": "56af0fee",
   "metadata": {},
   "outputs": [
    {
     "name": "stderr",
     "output_type": "stream",
     "text": [
      "[nltk_data] Downloading package punkt to C:\\Users\\gaurang\n",
      "[nltk_data]     manjrekar\\AppData\\Roaming\\nltk_data...\n",
      "[nltk_data]   Package punkt is already up-to-date!\n",
      "[nltk_data] Downloading package stopwords to C:\\Users\\gaurang\n",
      "[nltk_data]     manjrekar\\AppData\\Roaming\\nltk_data...\n",
      "[nltk_data]   Package stopwords is already up-to-date!\n"
     ]
    },
    {
     "data": {
      "text/plain": [
       "True"
      ]
     },
     "execution_count": 173,
     "metadata": {},
     "output_type": "execute_result"
    }
   ],
   "source": [
    "import nltk\n",
    "from nltk.corpus import stopwords\n",
    "nltk.download('punkt')\n",
    "nltk.download('stopwords')"
   ]
  },
  {
   "cell_type": "code",
   "execution_count": 174,
   "id": "c69d3241",
   "metadata": {},
   "outputs": [
    {
     "data": {
      "text/plain": [
       "['i', 'me', 'my', 'myself', 'we', 'our', 'ours', 'ourselves', 'you', \"you're\"]"
      ]
     },
     "execution_count": 174,
     "metadata": {},
     "output_type": "execute_result"
    }
   ],
   "source": [
    "my_stopwords = stopwords.words('english')\n",
    "my_stopwords[0:10]"
   ]
  },
  {
   "cell_type": "markdown",
   "id": "f89096a4-562d-4ebd-a15d-d8fd8bfa87df",
   "metadata": {},
   "source": [
    "### Removing stopwords"
   ]
  },
  {
   "cell_type": "code",
   "execution_count": 175,
   "id": "b282eb22",
   "metadata": {},
   "outputs": [],
   "source": [
    "sent_df['sentence1'] = sent_df['sentence'].apply(lambda x: ' '.join([x for x in x.split() if x not in (my_stopwords)]))"
   ]
  },
  {
   "cell_type": "markdown",
   "id": "52d52ec3-3ad5-4672-aa3a-bc029dae0c4c",
   "metadata": {},
   "source": [
    "### Removing punctuations"
   ]
  },
  {
   "cell_type": "code",
   "execution_count": 176,
   "id": "e17d9aee",
   "metadata": {},
   "outputs": [],
   "source": [
    "sent_df['clean'] = sent_df['sentence1'].apply(lambda x: ' '.join([x for x in x.split() if x not in string.punctuation]))"
   ]
  },
  {
   "cell_type": "code",
   "execution_count": 177,
   "id": "ce4904cf",
   "metadata": {},
   "outputs": [
    {
     "data": {
      "text/html": [
       "<div>\n",
       "<style scoped>\n",
       "    .dataframe tbody tr th:only-of-type {\n",
       "        vertical-align: middle;\n",
       "    }\n",
       "\n",
       "    .dataframe tbody tr th {\n",
       "        vertical-align: top;\n",
       "    }\n",
       "\n",
       "    .dataframe thead th {\n",
       "        text-align: right;\n",
       "    }\n",
       "</style>\n",
       "<table border=\"1\" class=\"dataframe\">\n",
       "  <thead>\n",
       "    <tr style=\"text-align: right;\">\n",
       "      <th></th>\n",
       "      <th>sentence</th>\n",
       "      <th>sentence1</th>\n",
       "      <th>clean</th>\n",
       "    </tr>\n",
       "  </thead>\n",
       "  <tbody>\n",
       "    <tr>\n",
       "      <th>0</th>\n",
       "      <td>Useful as a speakerContinuous command is not p...</td>\n",
       "      <td>Useful speakerContinuous command possible limi...</td>\n",
       "      <td>Useful speakerContinuous command possible limi...</td>\n",
       "    </tr>\n",
       "    <tr>\n",
       "      <th>1</th>\n",
       "      <td>Every sentence should start with Alexa..Good s...</td>\n",
       "      <td>Every sentence start Alexa..Good sound quality...</td>\n",
       "      <td>Every sentence start Alexa..Good sound quality...</td>\n",
       "    </tr>\n",
       "    <tr>\n",
       "      <th>2</th>\n",
       "      <td>I am writing this after a month of use..Had lo...</td>\n",
       "      <td>I writing month use..Had lot confusion buying ...</td>\n",
       "      <td>I writing month use..Had lot confusion buying ...</td>\n",
       "    </tr>\n",
       "    <tr>\n",
       "      <th>3</th>\n",
       "      <td>And every thing is fine Sometimes automaticall...</td>\n",
       "      <td>And every thing fine Sometimes automatically s...</td>\n",
       "      <td>And every thing fine Sometimes automatically s...</td>\n",
       "    </tr>\n",
       "    <tr>\n",
       "      <th>4</th>\n",
       "      <td>Ot works all good as a smart speaker but what ...</td>\n",
       "      <td>Ot works good smart speaker felt youtube music...</td>\n",
       "      <td>Ot works good smart speaker felt youtube music...</td>\n",
       "    </tr>\n",
       "  </tbody>\n",
       "</table>\n",
       "</div>"
      ],
      "text/plain": [
       "                                            sentence  \\\n",
       "0  Useful as a speakerContinuous command is not p...   \n",
       "1  Every sentence should start with Alexa..Good s...   \n",
       "2  I am writing this after a month of use..Had lo...   \n",
       "3  And every thing is fine Sometimes automaticall...   \n",
       "4  Ot works all good as a smart speaker but what ...   \n",
       "\n",
       "                                           sentence1  \\\n",
       "0  Useful speakerContinuous command possible limi...   \n",
       "1  Every sentence start Alexa..Good sound quality...   \n",
       "2  I writing month use..Had lot confusion buying ...   \n",
       "3  And every thing fine Sometimes automatically s...   \n",
       "4  Ot works good smart speaker felt youtube music...   \n",
       "\n",
       "                                               clean  \n",
       "0  Useful speakerContinuous command possible limi...  \n",
       "1  Every sentence start Alexa..Good sound quality...  \n",
       "2  I writing month use..Had lot confusion buying ...  \n",
       "3  And every thing fine Sometimes automatically s...  \n",
       "4  Ot works good smart speaker felt youtube music...  "
      ]
     },
     "execution_count": 177,
     "metadata": {},
     "output_type": "execute_result"
    }
   ],
   "source": [
    "sent_df.head()"
   ]
  },
  {
   "cell_type": "code",
   "execution_count": 178,
   "id": "00cbd2dc",
   "metadata": {},
   "outputs": [],
   "source": [
    "sent_df=sent_df.drop('sentence',axis=1)"
   ]
  },
  {
   "cell_type": "code",
   "execution_count": 179,
   "id": "86e7289a",
   "metadata": {},
   "outputs": [],
   "source": [
    "sent_df=sent_df.drop('sentence1',axis=1)"
   ]
  },
  {
   "cell_type": "code",
   "execution_count": 180,
   "id": "a780d4ba",
   "metadata": {},
   "outputs": [
    {
     "data": {
      "text/html": [
       "<div>\n",
       "<style scoped>\n",
       "    .dataframe tbody tr th:only-of-type {\n",
       "        vertical-align: middle;\n",
       "    }\n",
       "\n",
       "    .dataframe tbody tr th {\n",
       "        vertical-align: top;\n",
       "    }\n",
       "\n",
       "    .dataframe thead th {\n",
       "        text-align: right;\n",
       "    }\n",
       "</style>\n",
       "<table border=\"1\" class=\"dataframe\">\n",
       "  <thead>\n",
       "    <tr style=\"text-align: right;\">\n",
       "      <th></th>\n",
       "      <th>clean</th>\n",
       "    </tr>\n",
       "  </thead>\n",
       "  <tbody>\n",
       "    <tr>\n",
       "      <th>0</th>\n",
       "      <td>Useful speakerContinuous command possible limi...</td>\n",
       "    </tr>\n",
       "    <tr>\n",
       "      <th>1</th>\n",
       "      <td>Every sentence start Alexa..Good sound quality...</td>\n",
       "    </tr>\n",
       "    <tr>\n",
       "      <th>2</th>\n",
       "      <td>I writing month use..Had lot confusion buying ...</td>\n",
       "    </tr>\n",
       "    <tr>\n",
       "      <th>3</th>\n",
       "      <td>And every thing fine Sometimes automatically s...</td>\n",
       "    </tr>\n",
       "    <tr>\n",
       "      <th>4</th>\n",
       "      <td>Ot works good smart speaker felt youtube music...</td>\n",
       "    </tr>\n",
       "  </tbody>\n",
       "</table>\n",
       "</div>"
      ],
      "text/plain": [
       "                                               clean\n",
       "0  Useful speakerContinuous command possible limi...\n",
       "1  Every sentence start Alexa..Good sound quality...\n",
       "2  I writing month use..Had lot confusion buying ...\n",
       "3  And every thing fine Sometimes automatically s...\n",
       "4  Ot works good smart speaker felt youtube music..."
      ]
     },
     "execution_count": 180,
     "metadata": {},
     "output_type": "execute_result"
    }
   ],
   "source": [
    "sent_df.head()"
   ]
  },
  {
   "cell_type": "code",
   "execution_count": 181,
   "id": "95f6ff37",
   "metadata": {},
   "outputs": [],
   "source": [
    "from itertools import islice\n",
    "def take(n,iterable):\n",
    "    \"Return first n items of the iterable as list\"\n",
    "    return list(islice(iterable,n))"
   ]
  },
  {
   "cell_type": "code",
   "execution_count": 182,
   "id": "dda420bb",
   "metadata": {},
   "outputs": [
    {
     "data": {
      "text/plain": [
       "[('abandon', -2),\n",
       " ('abandoned', -2),\n",
       " ('abandons', -2),\n",
       " ('abducted', -2),\n",
       " ('abduction', -2),\n",
       " ('abductions', -2),\n",
       " ('abhor', -3),\n",
       " ('abhorred', -3),\n",
       " ('abhorrent', -3),\n",
       " ('abhors', -3),\n",
       " ('abilities', 2),\n",
       " ('ability', 2),\n",
       " ('aboard', 1),\n",
       " ('absentee', -1),\n",
       " ('absentees', -1),\n",
       " ('absolve', 2),\n",
       " ('absolved', 2),\n",
       " ('absolves', 2),\n",
       " ('absolving', 2),\n",
       " ('absorbed', 1)]"
      ]
     },
     "execution_count": 182,
     "metadata": {},
     "output_type": "execute_result"
    }
   ],
   "source": [
    "#coverting to dic format and for 20 words\n",
    "affinity_scores = affin.set_index('word')['value'].to_dict()\n",
    "take(20,affinity_scores.items())"
   ]
  },
  {
   "cell_type": "code",
   "execution_count": 183,
   "id": "e06511bf",
   "metadata": {},
   "outputs": [],
   "source": [
    "nlp = spacy.load(\"en_core_web_sm\")\n",
    "sentiment_lexicon = affinity_scores\n",
    "\n",
    "def calculate_sentiment(text: str = None):\n",
    "    sent_score = 0\n",
    "    if text:\n",
    "        clean = nlp(text)\n",
    "        for word in clean:\n",
    "            sent_score += sentiment_lexicon.get(word.lemma_, 0)\n",
    "    return sent_score"
   ]
  },
  {
   "cell_type": "markdown",
   "id": "b42248d3-22ed-4539-80b8-4c6c45cc3656",
   "metadata": {},
   "source": [
    "### Calulating the sentiment value for each sentence"
   ]
  },
  {
   "cell_type": "code",
   "execution_count": 184,
   "id": "f8109d8b",
   "metadata": {},
   "outputs": [],
   "source": [
    "\n",
    "sent_df['sentiment_value'] = sent_df['clean'].apply(calculate_sentiment)"
   ]
  },
  {
   "cell_type": "markdown",
   "id": "febaf31f-ef17-4d02-9745-9d357c507304",
   "metadata": {},
   "source": [
    "### Calulating the number of words in each sentence"
   ]
  },
  {
   "cell_type": "code",
   "execution_count": 185,
   "id": "6fc0144c",
   "metadata": {},
   "outputs": [
    {
     "data": {
      "text/plain": [
       "0     6\n",
       "1    25\n",
       "2    86\n",
       "3    69\n",
       "4    13\n",
       "5     8\n",
       "Name: word_count, dtype: int64"
      ]
     },
     "execution_count": 185,
     "metadata": {},
     "output_type": "execute_result"
    }
   ],
   "source": [
    "sent_df['word_count'] = sent_df['clean'].str.split().apply(len)\n",
    "sent_df['word_count'].head(10)"
   ]
  },
  {
   "cell_type": "markdown",
   "id": "42c2f96c-0382-4a99-916e-a24916d831bb",
   "metadata": {},
   "source": [
    "### Sort based on sentiment value"
   ]
  },
  {
   "cell_type": "code",
   "execution_count": 186,
   "id": "a162e81f",
   "metadata": {},
   "outputs": [
    {
     "data": {
      "text/html": [
       "<div>\n",
       "<style scoped>\n",
       "    .dataframe tbody tr th:only-of-type {\n",
       "        vertical-align: middle;\n",
       "    }\n",
       "\n",
       "    .dataframe tbody tr th {\n",
       "        vertical-align: top;\n",
       "    }\n",
       "\n",
       "    .dataframe thead th {\n",
       "        text-align: right;\n",
       "    }\n",
       "</style>\n",
       "<table border=\"1\" class=\"dataframe\">\n",
       "  <thead>\n",
       "    <tr style=\"text-align: right;\">\n",
       "      <th></th>\n",
       "      <th>clean</th>\n",
       "      <th>sentiment_value</th>\n",
       "      <th>word_count</th>\n",
       "    </tr>\n",
       "  </thead>\n",
       "  <tbody>\n",
       "    <tr>\n",
       "      <th>0</th>\n",
       "      <td>Useful speakerContinuous command possible limi...</td>\n",
       "      <td>1</td>\n",
       "      <td>6</td>\n",
       "    </tr>\n",
       "    <tr>\n",
       "      <th>5</th>\n",
       "      <td>I used month sound pretty good loud also</td>\n",
       "      <td>4</td>\n",
       "      <td>8</td>\n",
       "    </tr>\n",
       "    <tr>\n",
       "      <th>1</th>\n",
       "      <td>Every sentence start Alexa..Good sound quality...</td>\n",
       "      <td>8</td>\n",
       "      <td>25</td>\n",
       "    </tr>\n",
       "    <tr>\n",
       "      <th>4</th>\n",
       "      <td>Ot works good smart speaker felt youtube music...</td>\n",
       "      <td>10</td>\n",
       "      <td>13</td>\n",
       "    </tr>\n",
       "    <tr>\n",
       "      <th>2</th>\n",
       "      <td>I writing month use..Had lot confusion buying ...</td>\n",
       "      <td>18</td>\n",
       "      <td>86</td>\n",
       "    </tr>\n",
       "    <tr>\n",
       "      <th>3</th>\n",
       "      <td>And every thing fine Sometimes automatically s...</td>\n",
       "      <td>19</td>\n",
       "      <td>69</td>\n",
       "    </tr>\n",
       "  </tbody>\n",
       "</table>\n",
       "</div>"
      ],
      "text/plain": [
       "                                               clean  sentiment_value  \\\n",
       "0  Useful speakerContinuous command possible limi...                1   \n",
       "5           I used month sound pretty good loud also                4   \n",
       "1  Every sentence start Alexa..Good sound quality...                8   \n",
       "4  Ot works good smart speaker felt youtube music...               10   \n",
       "2  I writing month use..Had lot confusion buying ...               18   \n",
       "3  And every thing fine Sometimes automatically s...               19   \n",
       "\n",
       "   word_count  \n",
       "0           6  \n",
       "5           8  \n",
       "1          25  \n",
       "4          13  \n",
       "2          86  \n",
       "3          69  "
      ]
     },
     "execution_count": 186,
     "metadata": {},
     "output_type": "execute_result"
    }
   ],
   "source": [
    "\n",
    "sent_df.sort_values(by='sentiment_value').head(10)"
   ]
  },
  {
   "cell_type": "markdown",
   "id": "962ed621-a30f-498b-bc6a-694a6098878a",
   "metadata": {},
   "source": [
    "### Sentiment value less than or equal to 0"
   ]
  },
  {
   "cell_type": "code",
   "execution_count": 187,
   "id": "763144d5",
   "metadata": {},
   "outputs": [
    {
     "data": {
      "text/html": [
       "<div>\n",
       "<style scoped>\n",
       "    .dataframe tbody tr th:only-of-type {\n",
       "        vertical-align: middle;\n",
       "    }\n",
       "\n",
       "    .dataframe tbody tr th {\n",
       "        vertical-align: top;\n",
       "    }\n",
       "\n",
       "    .dataframe thead th {\n",
       "        text-align: right;\n",
       "    }\n",
       "</style>\n",
       "<table border=\"1\" class=\"dataframe\">\n",
       "  <thead>\n",
       "    <tr style=\"text-align: right;\">\n",
       "      <th></th>\n",
       "      <th>clean</th>\n",
       "      <th>sentiment_value</th>\n",
       "      <th>word_count</th>\n",
       "    </tr>\n",
       "  </thead>\n",
       "  <tbody>\n",
       "  </tbody>\n",
       "</table>\n",
       "</div>"
      ],
      "text/plain": [
       "Empty DataFrame\n",
       "Columns: [clean, sentiment_value, word_count]\n",
       "Index: []"
      ]
     },
     "execution_count": 187,
     "metadata": {},
     "output_type": "execute_result"
    }
   ],
   "source": [
    "\n",
    "sent_df[sent_df['sentiment_value']<=0]"
   ]
  },
  {
   "cell_type": "markdown",
   "id": "a4945ca9-36be-47a2-9873-7c1032450dc3",
   "metadata": {},
   "source": [
    "### Sentiment value greater than 0"
   ]
  },
  {
   "cell_type": "code",
   "execution_count": 198,
   "id": "a879deda",
   "metadata": {},
   "outputs": [
    {
     "data": {
      "text/html": [
       "<div>\n",
       "<style scoped>\n",
       "    .dataframe tbody tr th:only-of-type {\n",
       "        vertical-align: middle;\n",
       "    }\n",
       "\n",
       "    .dataframe tbody tr th {\n",
       "        vertical-align: top;\n",
       "    }\n",
       "\n",
       "    .dataframe thead th {\n",
       "        text-align: right;\n",
       "    }\n",
       "</style>\n",
       "<table border=\"1\" class=\"dataframe\">\n",
       "  <thead>\n",
       "    <tr style=\"text-align: right;\">\n",
       "      <th></th>\n",
       "      <th>clean</th>\n",
       "      <th>sentiment_value</th>\n",
       "      <th>word_count</th>\n",
       "      <th>index</th>\n",
       "      <th>sentiment</th>\n",
       "    </tr>\n",
       "  </thead>\n",
       "  <tbody>\n",
       "    <tr>\n",
       "      <th>0</th>\n",
       "      <td>Useful speakerContinuous command possible limi...</td>\n",
       "      <td>1</td>\n",
       "      <td>6</td>\n",
       "      <td>0</td>\n",
       "      <td>Positive</td>\n",
       "    </tr>\n",
       "    <tr>\n",
       "      <th>1</th>\n",
       "      <td>Every sentence start Alexa..Good sound quality...</td>\n",
       "      <td>8</td>\n",
       "      <td>25</td>\n",
       "      <td>1</td>\n",
       "      <td>Positive</td>\n",
       "    </tr>\n",
       "    <tr>\n",
       "      <th>2</th>\n",
       "      <td>I writing month use..Had lot confusion buying ...</td>\n",
       "      <td>18</td>\n",
       "      <td>86</td>\n",
       "      <td>2</td>\n",
       "      <td>Positive</td>\n",
       "    </tr>\n",
       "    <tr>\n",
       "      <th>3</th>\n",
       "      <td>And every thing fine Sometimes automatically s...</td>\n",
       "      <td>19</td>\n",
       "      <td>69</td>\n",
       "      <td>3</td>\n",
       "      <td>Positive</td>\n",
       "    </tr>\n",
       "    <tr>\n",
       "      <th>4</th>\n",
       "      <td>Ot works good smart speaker felt youtube music...</td>\n",
       "      <td>10</td>\n",
       "      <td>13</td>\n",
       "      <td>4</td>\n",
       "      <td>Positive</td>\n",
       "    </tr>\n",
       "    <tr>\n",
       "      <th>5</th>\n",
       "      <td>I used month sound pretty good loud also</td>\n",
       "      <td>4</td>\n",
       "      <td>8</td>\n",
       "      <td>5</td>\n",
       "      <td>Positive</td>\n",
       "    </tr>\n",
       "  </tbody>\n",
       "</table>\n",
       "</div>"
      ],
      "text/plain": [
       "                                               clean  sentiment_value  \\\n",
       "0  Useful speakerContinuous command possible limi...                1   \n",
       "1  Every sentence start Alexa..Good sound quality...                8   \n",
       "2  I writing month use..Had lot confusion buying ...               18   \n",
       "3  And every thing fine Sometimes automatically s...               19   \n",
       "4  Ot works good smart speaker felt youtube music...               10   \n",
       "5           I used month sound pretty good loud also                4   \n",
       "\n",
       "   word_count  index sentiment  \n",
       "0           6      0  Positive  \n",
       "1          25      1  Positive  \n",
       "2          86      2  Positive  \n",
       "3          69      3  Positive  \n",
       "4          13      4  Positive  \n",
       "5           8      5  Positive  "
      ]
     },
     "execution_count": 198,
     "metadata": {},
     "output_type": "execute_result"
    }
   ],
   "source": [
    "sent_df[sent_df['sentiment_value']>=0]"
   ]
  },
  {
   "cell_type": "code",
   "execution_count": 189,
   "id": "385c5278",
   "metadata": {},
   "outputs": [],
   "source": [
    "sent_df['index']=range(0,len(sent_df))"
   ]
  },
  {
   "cell_type": "code",
   "execution_count": 190,
   "id": "748aad15",
   "metadata": {},
   "outputs": [
    {
     "data": {
      "text/html": [
       "<div>\n",
       "<style scoped>\n",
       "    .dataframe tbody tr th:only-of-type {\n",
       "        vertical-align: middle;\n",
       "    }\n",
       "\n",
       "    .dataframe tbody tr th {\n",
       "        vertical-align: top;\n",
       "    }\n",
       "\n",
       "    .dataframe thead th {\n",
       "        text-align: right;\n",
       "    }\n",
       "</style>\n",
       "<table border=\"1\" class=\"dataframe\">\n",
       "  <thead>\n",
       "    <tr style=\"text-align: right;\">\n",
       "      <th></th>\n",
       "      <th>clean</th>\n",
       "      <th>sentiment_value</th>\n",
       "      <th>word_count</th>\n",
       "      <th>index</th>\n",
       "    </tr>\n",
       "  </thead>\n",
       "  <tbody>\n",
       "    <tr>\n",
       "      <th>0</th>\n",
       "      <td>Useful speakerContinuous command possible limi...</td>\n",
       "      <td>1</td>\n",
       "      <td>6</td>\n",
       "      <td>0</td>\n",
       "    </tr>\n",
       "    <tr>\n",
       "      <th>1</th>\n",
       "      <td>Every sentence start Alexa..Good sound quality...</td>\n",
       "      <td>8</td>\n",
       "      <td>25</td>\n",
       "      <td>1</td>\n",
       "    </tr>\n",
       "    <tr>\n",
       "      <th>2</th>\n",
       "      <td>I writing month use..Had lot confusion buying ...</td>\n",
       "      <td>18</td>\n",
       "      <td>86</td>\n",
       "      <td>2</td>\n",
       "    </tr>\n",
       "    <tr>\n",
       "      <th>3</th>\n",
       "      <td>And every thing fine Sometimes automatically s...</td>\n",
       "      <td>19</td>\n",
       "      <td>69</td>\n",
       "      <td>3</td>\n",
       "    </tr>\n",
       "    <tr>\n",
       "      <th>4</th>\n",
       "      <td>Ot works good smart speaker felt youtube music...</td>\n",
       "      <td>10</td>\n",
       "      <td>13</td>\n",
       "      <td>4</td>\n",
       "    </tr>\n",
       "  </tbody>\n",
       "</table>\n",
       "</div>"
      ],
      "text/plain": [
       "                                               clean  sentiment_value  \\\n",
       "0  Useful speakerContinuous command possible limi...                1   \n",
       "1  Every sentence start Alexa..Good sound quality...                8   \n",
       "2  I writing month use..Had lot confusion buying ...               18   \n",
       "3  And every thing fine Sometimes automatically s...               19   \n",
       "4  Ot works good smart speaker felt youtube music...               10   \n",
       "\n",
       "   word_count  index  \n",
       "0           6      0  \n",
       "1          25      1  \n",
       "2          86      2  \n",
       "3          69      3  \n",
       "4          13      4  "
      ]
     },
     "execution_count": 190,
     "metadata": {},
     "output_type": "execute_result"
    }
   ],
   "source": [
    "sent_df.head()"
   ]
  },
  {
   "cell_type": "code",
   "execution_count": 191,
   "id": "9995b7b0-6abe-4865-91ab-9d66842d656d",
   "metadata": {},
   "outputs": [
    {
     "data": {
      "text/html": [
       "<div>\n",
       "<style scoped>\n",
       "    .dataframe tbody tr th:only-of-type {\n",
       "        vertical-align: middle;\n",
       "    }\n",
       "\n",
       "    .dataframe tbody tr th {\n",
       "        vertical-align: top;\n",
       "    }\n",
       "\n",
       "    .dataframe thead th {\n",
       "        text-align: right;\n",
       "    }\n",
       "</style>\n",
       "<table border=\"1\" class=\"dataframe\">\n",
       "  <thead>\n",
       "    <tr style=\"text-align: right;\">\n",
       "      <th></th>\n",
       "      <th>clean</th>\n",
       "      <th>sentiment_value</th>\n",
       "      <th>word_count</th>\n",
       "      <th>index</th>\n",
       "      <th>sentiment</th>\n",
       "    </tr>\n",
       "  </thead>\n",
       "  <tbody>\n",
       "    <tr>\n",
       "      <th>0</th>\n",
       "      <td>Useful speakerContinuous command possible limi...</td>\n",
       "      <td>1</td>\n",
       "      <td>6</td>\n",
       "      <td>0</td>\n",
       "      <td>Positive</td>\n",
       "    </tr>\n",
       "    <tr>\n",
       "      <th>1</th>\n",
       "      <td>Every sentence start Alexa..Good sound quality...</td>\n",
       "      <td>8</td>\n",
       "      <td>25</td>\n",
       "      <td>1</td>\n",
       "      <td>Positive</td>\n",
       "    </tr>\n",
       "    <tr>\n",
       "      <th>2</th>\n",
       "      <td>I writing month use..Had lot confusion buying ...</td>\n",
       "      <td>18</td>\n",
       "      <td>86</td>\n",
       "      <td>2</td>\n",
       "      <td>Positive</td>\n",
       "    </tr>\n",
       "    <tr>\n",
       "      <th>3</th>\n",
       "      <td>And every thing fine Sometimes automatically s...</td>\n",
       "      <td>19</td>\n",
       "      <td>69</td>\n",
       "      <td>3</td>\n",
       "      <td>Positive</td>\n",
       "    </tr>\n",
       "    <tr>\n",
       "      <th>4</th>\n",
       "      <td>Ot works good smart speaker felt youtube music...</td>\n",
       "      <td>10</td>\n",
       "      <td>13</td>\n",
       "      <td>4</td>\n",
       "      <td>Positive</td>\n",
       "    </tr>\n",
       "    <tr>\n",
       "      <th>5</th>\n",
       "      <td>I used month sound pretty good loud also</td>\n",
       "      <td>4</td>\n",
       "      <td>8</td>\n",
       "      <td>5</td>\n",
       "      <td>Positive</td>\n",
       "    </tr>\n",
       "  </tbody>\n",
       "</table>\n",
       "</div>"
      ],
      "text/plain": [
       "                                               clean  sentiment_value  \\\n",
       "0  Useful speakerContinuous command possible limi...                1   \n",
       "1  Every sentence start Alexa..Good sound quality...                8   \n",
       "2  I writing month use..Had lot confusion buying ...               18   \n",
       "3  And every thing fine Sometimes automatically s...               19   \n",
       "4  Ot works good smart speaker felt youtube music...               10   \n",
       "5           I used month sound pretty good loud also                4   \n",
       "\n",
       "   word_count  index sentiment  \n",
       "0           6      0  Positive  \n",
       "1          25      1  Positive  \n",
       "2          86      2  Positive  \n",
       "3          69      3  Positive  \n",
       "4          13      4  Positive  \n",
       "5           8      5  Positive  "
      ]
     },
     "execution_count": 191,
     "metadata": {},
     "output_type": "execute_result"
    }
   ],
   "source": [
    "def sentiment(sentiment_value):\n",
    "    result = ''\n",
    "    if sentiment_value < 0:\n",
    "        result = 'Negative'\n",
    "    if sentiment_value == 0:\n",
    "        result = 'Neutral'\n",
    "    if sentiment_value > 0 :\n",
    "        result = 'Positive'\n",
    "    return result\n",
    "sent_df['sentiment'] = sent_df.sentiment_value.apply(sentiment)\n",
    "sent_df.tail(20)"
   ]
  },
  {
   "cell_type": "markdown",
   "id": "f4d98791-48d2-4215-9c2a-85e755626ee1",
   "metadata": {},
   "source": [
    "### Density plot"
   ]
  },
  {
   "cell_type": "code",
   "execution_count": 192,
   "id": "87eea873",
   "metadata": {},
   "outputs": [
    {
     "data": {
      "text/plain": [
       "<seaborn.axisgrid.FacetGrid at 0x26c115d8400>"
      ]
     },
     "execution_count": 192,
     "metadata": {},
     "output_type": "execute_result"
    },
    {
     "data": {
      "image/png": "[encoded data removed]",
      "text/plain": [
       "<Figure size 360x360 with 1 Axes>"
      ]
     },
     "metadata": {
      "needs_background": "light"
     },
     "output_type": "display_data"
    }
   ],
   "source": [
    "import seaborn as sns\n",
    "import matplotlib.pyplot as plt\n",
    "sns.displot(sent_df['sentiment_value'], kde =True)"
   ]
  },
  {
   "cell_type": "code",
   "execution_count": 193,
   "id": "8a68c765",
   "metadata": {},
   "outputs": [
    {
     "data": {
      "text/plain": [
       "<AxesSubplot:xlabel='index', ylabel='sentiment_value'>"
      ]
     },
     "execution_count": 193,
     "metadata": {},
     "output_type": "execute_result"
    },
    {
     "data": {
      "image/png": "[encoded data removed]",
      "text/plain": [
       "<Figure size 720x288 with 1 Axes>"
      ]
     },
     "metadata": {
      "needs_background": "light"
     },
     "output_type": "display_data"
    }
   ],
   "source": [
    "#lineplot based on sentiment value\n",
    "plt.figure(figsize=(10, 4))\n",
    "sns.lineplot(y='sentiment_value',x='index',data=sent_df)"
   ]
  },
  {
   "cell_type": "code",
   "execution_count": 194,
   "id": "ec2b2403",
   "metadata": {},
   "outputs": [
    {
     "data": {
      "text/plain": [
       "<AxesSubplot:title={'center':'Sentence sentiment value to sentence word count'}, xlabel='word_count', ylabel='sentiment_value'>"
      ]
     },
     "execution_count": 194,
     "metadata": {},
     "output_type": "execute_result"
    },
    {
     "data": {
      "image/png": "[encoded data removed]",
      "text/plain": [
       "<Figure size 576x576 with 1 Axes>"
      ]
     },
     "metadata": {
      "needs_background": "light"
     },
     "output_type": "display_data"
    }
   ],
   "source": [
    "#scatterplot between wordcount and sentiment value\n",
    "sent_df.plot.scatter(x='word_count', y='sentiment_value', figsize=(8,8),\n",
    "                     title='Sentence sentiment value to sentence word count')"
   ]
  },
  {
   "cell_type": "markdown",
   "id": "17a64f07",
   "metadata": {},
   "source": [
    "### Here all of the reviews are Positive \n",
    "### So from overall reviews we can conclude that its a good product"
   ]
  }
 ],
 "metadata": {
  "gist": {
   "data": {
    "description": "Assignment 11 Text_Mining Amazon.ipynb",
    "public": true
   },
   "id": ""
  },
  "kernelspec": {
   "display_name": "Python 3 (ipykernel)",
   "language": "python",
   "name": "python3"
  },
  "language_info": {
   "codemirror_mode": {
    "name": "ipython",
    "version": 3
   },
   "file_extension": ".py",
   "mimetype": "text/x-python",
   "name": "python",
   "nbconvert_exporter": "python",
   "pygments_lexer": "ipython3",
   "version": "3.9.12"
  }
 },
 "nbformat": 4,
 "nbformat_minor": 5
}
